{
 "cells": [
  {
   "cell_type": "markdown",
   "metadata": {
    "id": "CLGYp2JuVl4B"
   },
   "source": [
    "# Implementation of Rotation-Invariant CNN Using PyTorch\n",
    "\n",
    "This notebook focuses on the implementation of a Convolutional Neural Network (CNN) designed to be invariant to the orientation of features in the input data. The theoretical background and mathematical formulation are detailed in [this notebook](https://colab.research.google.com/drive/1FtJcQycf_XP6kAB_jJTuQAknxQiRnEj-?usp=drive_link). Here, we will develop, train, and evaluate the CNN using PyTorch.\n"
   ]
  },
  {
   "cell_type": "code",
   "execution_count": 1,
   "metadata": {
    "colab": {
     "base_uri": "https://localhost:8080/"
    },
    "executionInfo": {
     "elapsed": 8224,
     "status": "ok",
     "timestamp": 1713951445108,
     "user": {
      "displayName": "Daniel Gove",
      "userId": "07224280378983291387"
     },
     "user_tz": 240
    },
    "id": "Y3Tqe3Q2TvfO",
    "outputId": "0474b34e-1f67-4627-dc89-218bab47304f"
   },
   "outputs": [
    {
     "name": "stdout",
     "output_type": "stream",
     "text": [
      "Using cuda device\n"
     ]
    }
   ],
   "source": [
    "# Import necessary libraries\n",
    "import numpy as np\n",
    "import torch\n",
    "import torch.nn as nn\n",
    "import torch.optim as optim\n",
    "import torch.nn.functional as F\n",
    "from torch.utils.data import DataLoader\n",
    "from torchvision import datasets, transforms\n",
    "\n",
    "# Set up the GPU settings\n",
    "device = torch.device(\"cuda\" if torch.cuda.is_available() else \"cpu\")\n",
    "print(f'Using {device} device')"
   ]
  },
  {
   "cell_type": "code",
   "execution_count": 2,
   "metadata": {
    "executionInfo": {
     "elapsed": 161,
     "status": "ok",
     "timestamp": 1713951445264,
     "user": {
      "displayName": "Daniel Gove",
      "userId": "07224280378983291387"
     },
     "user_tz": 240
    },
    "id": "XBDpJYb-U04p"
   },
   "outputs": [],
   "source": [
    "# Define a transformation for MNIST that includes random rotations\n",
    "mnist_transform = transforms.Compose([\n",
    "    transforms.RandomRotation(degrees=(0, 360)),  # Randomly rotates images between 0 and 360 degrees\n",
    "    transforms.ToTensor(),  # Converts to Tensor and scales pixels between 0 and 1\n",
    "    transforms.Normalize((0.1307,), (0.3081,))  # Normalizes the dataset\n",
    "])\n",
    "\n",
    "# Downloading and loading MNIST dataset with rotation\n",
    "train_dataset = datasets.MNIST(root='./data', train=True, transform=mnist_transform, download=True)\n",
    "test_dataset = datasets.MNIST(root='./data', train=False, transform=mnist_transform)\n",
    "\n",
    "# Data loader\n",
    "train_loader = DataLoader(dataset=train_dataset, batch_size=64, shuffle=True)\n",
    "test_loader = DataLoader(dataset=test_dataset, batch_size=64, shuffle=False)\n"
   ]
  },
  {
   "cell_type": "code",
   "execution_count": 3,
   "metadata": {
    "executionInfo": {
     "elapsed": 142,
     "status": "ok",
     "timestamp": 1713951445403,
     "user": {
      "displayName": "Daniel Gove",
      "userId": "07224280378983291387"
     },
     "user_tz": 240
    },
    "id": "m769sW7ycTwK"
   },
   "outputs": [],
   "source": [
    "def vector_aggregation(x):\n",
    "    # Ensure input is in expected vector field format [batch, channels, height, width, 2]\n",
    "    assert x.dim() == 6 and x.shape[-1] == 2, \"Input must be 6D with last dim 2 (magnitude, phase).\"\n",
    "\n",
    "    #print(\"Size before aggregation:\", x.shape)\n",
    "\n",
    "    magnitude = x[..., 0]\n",
    "    phase = x[..., 1]\n",
    "\n",
    "    # Convert vector field to Cartesian coordinates\n",
    "    x_cartesian = magnitude * torch.cos(phase)\n",
    "    y_cartesian = magnitude * torch.sin(phase)\n",
    "\n",
    "    # Sum Cartesian components across all channels\n",
    "    summed_x = torch.sum(x_cartesian, dim=2, keepdim=False)\n",
    "    summed_y = torch.sum(y_cartesian, dim=2, keepdim=False)\n",
    "\n",
    "    # Convert back to polar coordinates\n",
    "    output_magnitude = torch.sqrt(summed_x**2 + summed_y**2)\n",
    "    output_phase = torch.atan2(summed_y, summed_x)\n",
    "\n",
    "    #print(\"Size after aggregation:\", torch.stack([output_magnitude, output_phase], dim=-1).squeeze(2).shape)\n",
    "\n",
    "    return torch.stack([output_magnitude, output_phase], dim=-1)\n",
    "\n",
    "class VectorConv2d(nn.Module):\n",
    "  def __init__(self, in_channels, out_channels, kernel_size, stride=1, padding=0, bias=True):\n",
    "    super(VectorConv2d, self).__init__()\n",
    "    self.in_channels = in_channels\n",
    "    self.out_channels = out_channels\n",
    "    self.kernel_size = (kernel_size, kernel_size)\n",
    "    self.stride = stride\n",
    "    self.padding = padding\n",
    "\n",
    "    # Define the weights for the magnitudes and phases of the filters\n",
    "    self.filter_x = nn.Parameter(torch.randn(out_channels, in_channels, *self.kernel_size))\n",
    "    self.filter_y = nn.Parameter(torch.randn(out_channels, in_channels, *self.kernel_size))\n",
    "\n",
    "    if bias:\n",
    "      self.bias = nn.Parameter(torch.randn(out_channels))\n",
    "    else:\n",
    "      self.bias = None\n",
    "\n",
    "  def forward(self, x):\n",
    "    assert x.dim() == 5 and x.shape[-1] == 2, \"Input to VectorConv2d should be 5D with last dim 2.\"\n",
    "\n",
    "    magnitude = x[..., 0]\n",
    "    phase = x[..., 1]\n",
    "\n",
    "    # Convert from polar to cartesian\n",
    "    x_cart = magnitude * torch.cos(phase)\n",
    "    y_cart = magnitude * torch.sin(phase)\n",
    "\n",
    "    # Rotate the filters\n",
    "    rotated_filter_x = self.rotate_filters(self.filter_x)\n",
    "    rotated_filter_y = self.rotate_filters(self.filter_y)\n",
    "    bias = self.bias.repeat(4)\n",
    "\n",
    "    # Apply convolution in cartesian coordinates\n",
    "    real_conv = F.conv2d(x_cart, rotated_filter_x, bias, self.stride, self.padding) - \\\n",
    "                F.conv2d(y_cart, rotated_filter_y, None, self.stride, self.padding)\n",
    "    imag_conv = F.conv2d(x_cart, rotated_filter_y, None, self.stride, self.padding) + \\\n",
    "                F.conv2d(y_cart, rotated_filter_x, None, self.stride, self.padding)\n",
    "\n",
    "    # Reshape to isolate rotations to their own axis\n",
    "    batch_size, _, height, width = real_conv.shape\n",
    "    x_conv = real_conv.view(batch_size, self.out_channels, 4, height, width)\n",
    "    y_conv = imag_conv.view(batch_size, self.out_channels, 4, height, width)\n",
    "      \n",
    "    # Convert the results to polar coordinates\n",
    "    output_mag = torch.sqrt(x_conv**2 + y_conv**2)\n",
    "    output_phase = torch.atan2(y_conv, x_conv)\n",
    "\n",
    "    # Apply Max Pooling, drop excess rotation channels\n",
    "    max_magnitude, max_indices = torch.max(output_mag, dim=2, keepdim=True)\n",
    "    max_phase = torch.gather(output_phase, 2, max_indices)\n",
    "\n",
    "    vectorized_output = torch.stack([max_magnitude.squeeze(2), max_phase.squeeze(2)], dim=-1)\n",
    "    return vectorized_output\n",
    "\n",
    "  def rotate_filters(self, filters):\n",
    "    rotated_filters = torch.stack([\n",
    "      filters,\n",
    "      filters.transpose(2, 3).flip(2),\n",
    "      filters.flip(2).flip(3),\n",
    "      filters.transpose(2, 3).flip(3)\n",
    "    ], dim=0).view(-1, *filters.shape[1:])\n",
    "    return rotated_filters\n",
    "\n",
    "class VectorTransformConv2d(nn.Module):\n",
    "  def __init__(self, in_channels, out_channels, kernel_size, stride=1, padding=0, dilation=1, groups=1, bias=True):\n",
    "    super(VectorTransformConv2d, self).__init__()\n",
    "\n",
    "    # Parameters for the convolution operation\n",
    "    self.in_channels = in_channels\n",
    "    self.out_channels = out_channels\n",
    "    self.kernel_size = (kernel_size, kernel_size)\n",
    "    self.stride = stride\n",
    "    self.padding = padding\n",
    "    self.dilation = dilation\n",
    "    self.groups = groups\n",
    "\n",
    "    # Learnable parameters: weights and bias\n",
    "    self.filters = nn.Parameter(torch.randn(out_channels, in_channels, *self.kernel_size))\n",
    "    self.bias = nn.Parameter(torch.randn(out_channels)) if bias else None\n",
    "\n",
    "    # Phase iteration: angular spacing between rotations\n",
    "    self.phase_values = nn.Parameter(torch.tensor([0, torch.pi/2, torch.pi, 3*torch.pi/2]), requires_grad=False)\n",
    "\n",
    "  def forward(self, x):\n",
    "    # Apply convolution with each rotated filter and stack the outputs\n",
    "    output = F.conv2d(x, self.rotate_filters(self.filters), self.bias.repeat(4), self.stride, self.padding, self.dilation, self.groups)\n",
    "      \n",
    "    # Reshape output to separate filters from rotations\n",
    "    batch_size, _, height, width = output.shape\n",
    "    output = output.view(batch_size, self.out_channels, 4, height, width)\n",
    "    phase = self.phase_values.repeat(self.out_channels).view(1, self.out_channels, 4, 1, 1).expand(batch_size, -1, -1, height, width)\n",
    "\n",
    "    max_magnitude, max_indices = torch.max(output, dim=2, keepdim=True)\n",
    "    max_phase = torch.gather(phase, 2, max_indices)\n",
    "    aggregated_output = torch.stack([max_magnitude, max_phase], dim=-1).squeeze(2)\n",
    "    return aggregated_output\n",
    "\n",
    "  def rotate_filters(self, filters):\n",
    "    # Rotate the weight tensor by 0, 90, 180, and 270 degrees\n",
    "    rotated_filters = torch.stack([\n",
    "      filters,\n",
    "      filters.transpose(2, 3).flip(2),\n",
    "      filters.flip(2).flip(3),\n",
    "      filters.transpose(2, 3).flip(3)\n",
    "    ], dim=0).view(-1, *filters.shape[1:])\n",
    "    return rotated_filters\n",
    "\n",
    "class VectorMaxPool2d(nn.Module):\n",
    "  def __init__(self, kernel_size, stride=None, padding=0):\n",
    "    super(VectorMaxPool2d, self).__init__()\n",
    "    # Initialize parameters similar to nn.MaxPool2d\n",
    "    self.kernel_size = kernel_size\n",
    "    self.stride = stride if stride is not None else kernel_size\n",
    "    self.padding = padding\n",
    "\n",
    "  def forward(self, x):\n",
    "    # Extract magnitude and phase\n",
    "    magnitude = x[..., 0]\n",
    "    phase = x[..., 1]\n",
    "\n",
    "    # Apply max pooling to the magnitude part\n",
    "    pooled_magnitude, indices = F.max_pool2d(magnitude, self.kernel_size, self.stride, self.padding, return_indices=True)\n",
    "\n",
    "    # Use the indices from max pooling on magnitude to gather corresponding phases\n",
    "    # Phase tensor reshaping for gathering\n",
    "    phase_flat = phase.view(phase.shape[0], phase.shape[1], -1) # Flatten height and width for indexing\n",
    "    pooled_phase = torch.gather(phase_flat, 2, indices.view(phase.shape[0], phase.shape[1], -1))\n",
    "    pooled_phase = pooled_phase.view_as(pooled_magnitude)\n",
    "\n",
    "    pooled_output = torch.stack([pooled_magnitude, pooled_phase], dim=-1)\n",
    "    return pooled_output\n",
    "\n",
    "\n",
    "class Vector2Magnitude(nn.Module):\n",
    "  def __init__(self):\n",
    "    super(Vector2Magnitude, self).__init__()\n",
    "\n",
    "  def forward(self, x):\n",
    "    assert x.size(-1) == 2, \"Input must be a vector feature map with last dim = 2\"\n",
    "    return x[..., 0]\n",
    "\n",
    "def vector_relu(x):\n",
    "  magnitude, phase = x[..., 0], x[..., 1]\n",
    "  magnitude = F.relu(magnitude)\n",
    "  return torch.stack([magnitude, phase], dim=-1)"
   ]
  },
  {
   "cell_type": "code",
   "execution_count": 10,
   "metadata": {
    "executionInfo": {
     "elapsed": 3,
     "status": "ok",
     "timestamp": 1713951445569,
     "user": {
      "displayName": "Daniel Gove",
      "userId": "07224280378983291387"
     },
     "user_tz": 240
    },
    "id": "nm6Fym5EtP_G"
   },
   "outputs": [
    {
     "name": "stdout",
     "output_type": "stream",
     "text": [
      "RI Total number of trainable parameters:  9798\n",
      "BASE Total number of trainable parameters:  9902\n"
     ]
    }
   ],
   "source": [
    "class RI_CNN(nn.Module):\n",
    "    def __init__(self):\n",
    "        super(RI_CNN, self).__init__()\n",
    "        # Define the first convolutional layer\n",
    "        self.vector_transform = VectorTransformConv2d(1, 4, kernel_size=5, stride=1, padding=2)\n",
    "        self.pool1 = VectorMaxPool2d(2, stride=2)\n",
    "        \n",
    "        # Define the second convolutional layer\n",
    "        self.conv2 = VectorConv2d(4, 8, kernel_size=5, padding=2)\n",
    "        self.pool2 = VectorMaxPool2d(2, stride=2)\n",
    "\n",
    "        # Batch Normalization\n",
    "        self.batch_norm = nn.BatchNorm2d(8)\n",
    "        \n",
    "        # Fully connected layers\n",
    "        self.fc1 = nn.Linear(8*7*7, 20)\n",
    "        self.fc2 = nn.Linear(20, 10)\n",
    "\n",
    "    def forward(self, x):\n",
    "        # Applying the first convolutional layer\n",
    "        x = self.vector_transform(x)\n",
    "        x = self.pool1(x)\n",
    "        x = vector_relu(x)\n",
    "\n",
    "        # Apply the second convolutional layer\n",
    "        x = self.conv2(x)\n",
    "        x = self.pool2(x)\n",
    "        x = vector_relu(x)\n",
    "        \n",
    "        x = x[..., 0]\n",
    "        x = self.batch_norm(x)\n",
    "        \n",
    "        # Flatten the output from the convolutional layers\n",
    "        #print(x.shape)\n",
    "        x = x.view(x.size(0), -1)  # Flatten for the fully connected layer\n",
    "        \n",
    "        # Apply the first fully connected layer with ReLU activation and dropout\n",
    "        x = F.relu(self.fc1(x))\n",
    "        \n",
    "        # Apply the second fully connected layer to produce the final output\n",
    "        x = self.fc2(x)\n",
    "        return F.log_softmax(x, dim=1)\n",
    "\n",
    "class BASE_CNN(nn.Module):\n",
    "    def __init__(self):\n",
    "        super(BASE_CNN, self).__init__()  # Changed superclass call to match class name\n",
    "        # Define the first convolutional layer\n",
    "        self.conv1 = nn.Conv2d(1, 8, kernel_size=5, stride=1, padding=2, bias=True)\n",
    "        self.pool1 = nn.MaxPool2d(2, stride=2)\n",
    "        \n",
    "        # Define the second convolutional layer\n",
    "        self.conv2 = nn.Conv2d(8, 8, kernel_size=5, stride=1, padding=2, bias=True)\n",
    "        self.pool2 = nn.MaxPool2d(2, stride=2)\n",
    "\n",
    "        # Batch Normalization\n",
    "        self.batch_norm = nn.BatchNorm2d(8)\n",
    "        \n",
    "        # Fully connected layers\n",
    "        self.fc1 = nn.Linear(8*7*7, 20)  # Adjusted the input size to match output from conv2\n",
    "        self.fc2 = nn.Linear(20, 10)\n",
    "\n",
    "    def forward(self, x):\n",
    "        # Applying the first convolutional layer followed by ReLU and pooling\n",
    "        x = self.conv1(x)\n",
    "        x = self.pool1(x)\n",
    "        x = F.relu(x)\n",
    "        \n",
    "        # Applying the second convolutional layer followed by ReLU and pooling\n",
    "        x = self.conv2(x)\n",
    "        x = self.pool2(x)\n",
    "        x = F.relu(x)\n",
    "        \n",
    "        # Flatten the output from the convolutional layers for the fully connected layer\n",
    "        x = x.view(x.size(0), -1)  # Flatten operation\n",
    "        \n",
    "        # Apply the first fully connected layer with ReLU activation and dropout\n",
    "        x = F.relu(self.fc1(x))\n",
    "        \n",
    "        # Apply the second fully connected layer to produce the final output\n",
    "        x = self.fc2(x)\n",
    "        return F.log_softmax(x, dim=1)\n",
    "\n",
    "# Device setup\n",
    "device = torch.device(\"cuda\" if torch.cuda.is_available() else \"cpu\")\n",
    "our_model = RI_CNN().to(device)\n",
    "basic_model = BASE_CNN().to(device)\n",
    "\n",
    "def print_parameters_per_layer(model):\n",
    "    for name, parameter in model.named_parameters():\n",
    "        print(f\"{name}: {parameter.numel()} parameters; Trainable: {parameter.requires_grad}\")\n",
    "\n",
    "# Using the example model\n",
    "# print_parameters_per_layer(our_model)\n",
    "# print_parameters_per_layer(basic_model)\n",
    "\n",
    "trainable_params = sum(p.numel() for p in our_model.parameters() if p.requires_grad)\n",
    "print(\"RI Total number of trainable parameters: \", trainable_params)\n",
    "\n",
    "trainable_params = sum(p.numel() for p in basic_model.parameters() if p.requires_grad)\n",
    "print(\"BASE Total number of trainable parameters: \", trainable_params)\n"
   ]
  },
  {
   "cell_type": "code",
   "execution_count": 11,
   "metadata": {
    "executionInfo": {
     "elapsed": 3,
     "status": "ok",
     "timestamp": 1713951445569,
     "user": {
      "displayName": "Daniel Gove",
      "userId": "07224280378983291387"
     },
     "user_tz": 240
    },
    "id": "Mueyff_FtdsY"
   },
   "outputs": [],
   "source": [
    "our_optimizer = optim.Adam(our_model.parameters(), lr=0.01)\n",
    "basic_optimizer = optim.Adam(basic_model.parameters(), lr=0.01)\n",
    "def train(model, device, train_loader, optimizer, epoch):\n",
    "    model.train()\n",
    "    for batch_idx, (data, target) in enumerate(train_loader):\n",
    "        data, target = data.to(device), target.to(device)\n",
    "        optimizer.zero_grad()\n",
    "        output = model(data)\n",
    "        loss = F.nll_loss(output, target)\n",
    "        loss.backward()\n",
    "        for name, param in model.named_parameters():\n",
    "            if param.grad is not None:\n",
    "                #print(f\"{name}, Gradient: {param.grad.norm().item()}\")\n",
    "                pass\n",
    "\n",
    "        optimizer.step()\n",
    "        if batch_idx % 100 == 0:\n",
    "            continue\n",
    "            print('Train Epoch: {} [{}/{} ({:.0f}%)]\\tLoss: {:.6f}'.format(\n",
    "                epoch, batch_idx * len(data), len(train_loader.dataset),\n",
    "                100. * batch_idx / len(train_loader), loss.item()))\n",
    "\n",
    "def test(model, device, test_loader):\n",
    "    model.eval()\n",
    "    test_loss = 0\n",
    "    correct = 0\n",
    "    with torch.no_grad():\n",
    "        for data, target in test_loader:\n",
    "            data, target = data.to(device), target.to(device)\n",
    "            output = model(data)\n",
    "            test_loss += F.nll_loss(output, target, reduction='sum').item()\n",
    "            pred = output.argmax(dim=1, keepdim=True)\n",
    "            correct += pred.eq(target.view_as(pred)).sum().item()\n",
    "    test_loss /= len(test_loader.dataset)\n",
    "    print('Test set: Average loss: {:.4f}, Accuracy: {}/{} ({:.0f}%)\\n'.format(\n",
    "        test_loss, correct, len(test_loader.dataset),\n",
    "        100. * correct / len(test_loader.dataset)))\n",
    "    #return test_loss\n"
   ]
  },
  {
   "cell_type": "code",
   "execution_count": 12,
   "metadata": {
    "colab": {
     "base_uri": "https://localhost:8080/",
     "height": 356
    },
    "executionInfo": {
     "elapsed": 11175,
     "status": "error",
     "timestamp": 1713951456741,
     "user": {
      "displayName": "Daniel Gove",
      "userId": "07224280378983291387"
     },
     "user_tz": 240
    },
    "id": "IQT-6SgdvTVX",
    "outputId": "47a02973-22c8-46f1-dc35-bab19a5e8ad2"
   },
   "outputs": [
    {
     "name": "stdout",
     "output_type": "stream",
     "text": [
      "Test set: Average loss: 0.5055, Accuracy: 8372/10000 (84%)\n",
      "\n",
      "Test set: Average loss: 0.3633, Accuracy: 8836/10000 (88%)\n",
      "\n",
      "Test set: Average loss: 0.3502, Accuracy: 8861/10000 (89%)\n",
      "\n",
      "Test set: Average loss: 0.3198, Accuracy: 9001/10000 (90%)\n",
      "\n",
      "Test set: Average loss: 0.3292, Accuracy: 8942/10000 (89%)\n",
      "\n"
     ]
    }
   ],
   "source": [
    "for epoch in range(1, 6):  # Run for 5 epochs\n",
    "    train(our_model, device, train_loader, our_optimizer, epoch)\n",
    "    test(our_model, device, test_loader)"
   ]
  },
  {
   "cell_type": "code",
   "execution_count": 13,
   "metadata": {},
   "outputs": [
    {
     "name": "stdout",
     "output_type": "stream",
     "text": [
      "Test set: Average loss: 0.6150, Accuracy: 7987/10000 (80%)\n",
      "\n",
      "Test set: Average loss: 0.5559, Accuracy: 8180/10000 (82%)\n",
      "\n",
      "Test set: Average loss: 0.5515, Accuracy: 8243/10000 (82%)\n",
      "\n",
      "Test set: Average loss: 0.5166, Accuracy: 8290/10000 (83%)\n",
      "\n",
      "Test set: Average loss: 0.5018, Accuracy: 8390/10000 (84%)\n",
      "\n"
     ]
    }
   ],
   "source": [
    "for epoch in range(1, 6):  # Run for 5 epochs\n",
    "    train(basic_model, device, train_loader, basic_optimizer, epoch)\n",
    "    test(basic_model, device, test_loader)"
   ]
  },
  {
   "cell_type": "code",
   "execution_count": 7,
   "metadata": {},
   "outputs": [
    {
     "data": {
      "application/vnd.jupyter.widget-view+json": {
       "model_id": "16861c3a75054578826329a695ab777b",
       "version_major": 2,
       "version_minor": 0
      },
      "text/plain": [
       "Running training cycles:   0%|          | 0/5 [00:00<?, ?it/s]"
      ]
     },
     "metadata": {},
     "output_type": "display_data"
    },
    {
     "data": {
      "application/vnd.jupyter.widget-view+json": {
       "model_id": "",
       "version_major": 2,
       "version_minor": 0
      },
      "text/plain": [
       "Epoch 1/10:   0%|          | 0/938 [00:00<?, ?it/s]"
      ]
     },
     "metadata": {},
     "output_type": "display_data"
    },
    {
     "data": {
      "application/vnd.jupyter.widget-view+json": {
       "model_id": "",
       "version_major": 2,
       "version_minor": 0
      },
      "text/plain": [
       "Epoch 2/10:   0%|          | 0/938 [00:00<?, ?it/s]"
      ]
     },
     "metadata": {},
     "output_type": "display_data"
    },
    {
     "data": {
      "application/vnd.jupyter.widget-view+json": {
       "model_id": "",
       "version_major": 2,
       "version_minor": 0
      },
      "text/plain": [
       "Epoch 3/10:   0%|          | 0/938 [00:00<?, ?it/s]"
      ]
     },
     "metadata": {},
     "output_type": "display_data"
    },
    {
     "data": {
      "application/vnd.jupyter.widget-view+json": {
       "model_id": "",
       "version_major": 2,
       "version_minor": 0
      },
      "text/plain": [
       "Epoch 4/10:   0%|          | 0/938 [00:00<?, ?it/s]"
      ]
     },
     "metadata": {},
     "output_type": "display_data"
    },
    {
     "data": {
      "application/vnd.jupyter.widget-view+json": {
       "model_id": "",
       "version_major": 2,
       "version_minor": 0
      },
      "text/plain": [
       "Epoch 5/10:   0%|          | 0/938 [00:00<?, ?it/s]"
      ]
     },
     "metadata": {},
     "output_type": "display_data"
    },
    {
     "data": {
      "application/vnd.jupyter.widget-view+json": {
       "model_id": "",
       "version_major": 2,
       "version_minor": 0
      },
      "text/plain": [
       "Epoch 6/10:   0%|          | 0/938 [00:00<?, ?it/s]"
      ]
     },
     "metadata": {},
     "output_type": "display_data"
    },
    {
     "data": {
      "application/vnd.jupyter.widget-view+json": {
       "model_id": "",
       "version_major": 2,
       "version_minor": 0
      },
      "text/plain": [
       "Epoch 7/10:   0%|          | 0/938 [00:00<?, ?it/s]"
      ]
     },
     "metadata": {},
     "output_type": "display_data"
    },
    {
     "data": {
      "application/vnd.jupyter.widget-view+json": {
       "model_id": "",
       "version_major": 2,
       "version_minor": 0
      },
      "text/plain": [
       "Epoch 8/10:   0%|          | 0/938 [00:00<?, ?it/s]"
      ]
     },
     "metadata": {},
     "output_type": "display_data"
    },
    {
     "data": {
      "application/vnd.jupyter.widget-view+json": {
       "model_id": "",
       "version_major": 2,
       "version_minor": 0
      },
      "text/plain": [
       "Epoch 9/10:   0%|          | 0/938 [00:00<?, ?it/s]"
      ]
     },
     "metadata": {},
     "output_type": "display_data"
    },
    {
     "data": {
      "application/vnd.jupyter.widget-view+json": {
       "model_id": "",
       "version_major": 2,
       "version_minor": 0
      },
      "text/plain": [
       "Epoch 10/10:   0%|          | 0/938 [00:00<?, ?it/s]"
      ]
     },
     "metadata": {},
     "output_type": "display_data"
    },
    {
     "data": {
      "application/vnd.jupyter.widget-view+json": {
       "model_id": "",
       "version_major": 2,
       "version_minor": 0
      },
      "text/plain": [
       "Epoch 1/10:   0%|          | 0/938 [00:00<?, ?it/s]"
      ]
     },
     "metadata": {},
     "output_type": "display_data"
    },
    {
     "data": {
      "application/vnd.jupyter.widget-view+json": {
       "model_id": "",
       "version_major": 2,
       "version_minor": 0
      },
      "text/plain": [
       "Epoch 2/10:   0%|          | 0/938 [00:00<?, ?it/s]"
      ]
     },
     "metadata": {},
     "output_type": "display_data"
    },
    {
     "data": {
      "application/vnd.jupyter.widget-view+json": {
       "model_id": "",
       "version_major": 2,
       "version_minor": 0
      },
      "text/plain": [
       "Epoch 3/10:   0%|          | 0/938 [00:00<?, ?it/s]"
      ]
     },
     "metadata": {},
     "output_type": "display_data"
    },
    {
     "data": {
      "application/vnd.jupyter.widget-view+json": {
       "model_id": "",
       "version_major": 2,
       "version_minor": 0
      },
      "text/plain": [
       "Epoch 4/10:   0%|          | 0/938 [00:00<?, ?it/s]"
      ]
     },
     "metadata": {},
     "output_type": "display_data"
    },
    {
     "data": {
      "application/vnd.jupyter.widget-view+json": {
       "model_id": "",
       "version_major": 2,
       "version_minor": 0
      },
      "text/plain": [
       "Epoch 5/10:   0%|          | 0/938 [00:00<?, ?it/s]"
      ]
     },
     "metadata": {},
     "output_type": "display_data"
    },
    {
     "data": {
      "application/vnd.jupyter.widget-view+json": {
       "model_id": "",
       "version_major": 2,
       "version_minor": 0
      },
      "text/plain": [
       "Epoch 6/10:   0%|          | 0/938 [00:00<?, ?it/s]"
      ]
     },
     "metadata": {},
     "output_type": "display_data"
    },
    {
     "data": {
      "application/vnd.jupyter.widget-view+json": {
       "model_id": "",
       "version_major": 2,
       "version_minor": 0
      },
      "text/plain": [
       "Epoch 7/10:   0%|          | 0/938 [00:00<?, ?it/s]"
      ]
     },
     "metadata": {},
     "output_type": "display_data"
    },
    {
     "data": {
      "application/vnd.jupyter.widget-view+json": {
       "model_id": "",
       "version_major": 2,
       "version_minor": 0
      },
      "text/plain": [
       "Epoch 8/10:   0%|          | 0/938 [00:00<?, ?it/s]"
      ]
     },
     "metadata": {},
     "output_type": "display_data"
    },
    {
     "data": {
      "application/vnd.jupyter.widget-view+json": {
       "model_id": "",
       "version_major": 2,
       "version_minor": 0
      },
      "text/plain": [
       "Epoch 9/10:   0%|          | 0/938 [00:00<?, ?it/s]"
      ]
     },
     "metadata": {},
     "output_type": "display_data"
    },
    {
     "data": {
      "application/vnd.jupyter.widget-view+json": {
       "model_id": "",
       "version_major": 2,
       "version_minor": 0
      },
      "text/plain": [
       "Epoch 10/10:   0%|          | 0/938 [00:00<?, ?it/s]"
      ]
     },
     "metadata": {},
     "output_type": "display_data"
    },
    {
     "data": {
      "application/vnd.jupyter.widget-view+json": {
       "model_id": "",
       "version_major": 2,
       "version_minor": 0
      },
      "text/plain": [
       "Epoch 1/10:   0%|          | 0/938 [00:00<?, ?it/s]"
      ]
     },
     "metadata": {},
     "output_type": "display_data"
    },
    {
     "data": {
      "application/vnd.jupyter.widget-view+json": {
       "model_id": "",
       "version_major": 2,
       "version_minor": 0
      },
      "text/plain": [
       "Epoch 2/10:   0%|          | 0/938 [00:00<?, ?it/s]"
      ]
     },
     "metadata": {},
     "output_type": "display_data"
    },
    {
     "data": {
      "application/vnd.jupyter.widget-view+json": {
       "model_id": "",
       "version_major": 2,
       "version_minor": 0
      },
      "text/plain": [
       "Epoch 3/10:   0%|          | 0/938 [00:00<?, ?it/s]"
      ]
     },
     "metadata": {},
     "output_type": "display_data"
    },
    {
     "data": {
      "application/vnd.jupyter.widget-view+json": {
       "model_id": "",
       "version_major": 2,
       "version_minor": 0
      },
      "text/plain": [
       "Epoch 4/10:   0%|          | 0/938 [00:00<?, ?it/s]"
      ]
     },
     "metadata": {},
     "output_type": "display_data"
    },
    {
     "data": {
      "application/vnd.jupyter.widget-view+json": {
       "model_id": "",
       "version_major": 2,
       "version_minor": 0
      },
      "text/plain": [
       "Epoch 5/10:   0%|          | 0/938 [00:00<?, ?it/s]"
      ]
     },
     "metadata": {},
     "output_type": "display_data"
    },
    {
     "data": {
      "application/vnd.jupyter.widget-view+json": {
       "model_id": "",
       "version_major": 2,
       "version_minor": 0
      },
      "text/plain": [
       "Epoch 6/10:   0%|          | 0/938 [00:00<?, ?it/s]"
      ]
     },
     "metadata": {},
     "output_type": "display_data"
    },
    {
     "data": {
      "application/vnd.jupyter.widget-view+json": {
       "model_id": "",
       "version_major": 2,
       "version_minor": 0
      },
      "text/plain": [
       "Epoch 7/10:   0%|          | 0/938 [00:00<?, ?it/s]"
      ]
     },
     "metadata": {},
     "output_type": "display_data"
    },
    {
     "data": {
      "application/vnd.jupyter.widget-view+json": {
       "model_id": "",
       "version_major": 2,
       "version_minor": 0
      },
      "text/plain": [
       "Epoch 8/10:   0%|          | 0/938 [00:00<?, ?it/s]"
      ]
     },
     "metadata": {},
     "output_type": "display_data"
    },
    {
     "data": {
      "application/vnd.jupyter.widget-view+json": {
       "model_id": "",
       "version_major": 2,
       "version_minor": 0
      },
      "text/plain": [
       "Epoch 9/10:   0%|          | 0/938 [00:00<?, ?it/s]"
      ]
     },
     "metadata": {},
     "output_type": "display_data"
    },
    {
     "data": {
      "application/vnd.jupyter.widget-view+json": {
       "model_id": "",
       "version_major": 2,
       "version_minor": 0
      },
      "text/plain": [
       "Epoch 10/10:   0%|          | 0/938 [00:00<?, ?it/s]"
      ]
     },
     "metadata": {},
     "output_type": "display_data"
    },
    {
     "data": {
      "application/vnd.jupyter.widget-view+json": {
       "model_id": "",
       "version_major": 2,
       "version_minor": 0
      },
      "text/plain": [
       "Epoch 1/10:   0%|          | 0/938 [00:00<?, ?it/s]"
      ]
     },
     "metadata": {},
     "output_type": "display_data"
    },
    {
     "data": {
      "application/vnd.jupyter.widget-view+json": {
       "model_id": "",
       "version_major": 2,
       "version_minor": 0
      },
      "text/plain": [
       "Epoch 2/10:   0%|          | 0/938 [00:00<?, ?it/s]"
      ]
     },
     "metadata": {},
     "output_type": "display_data"
    },
    {
     "data": {
      "application/vnd.jupyter.widget-view+json": {
       "model_id": "",
       "version_major": 2,
       "version_minor": 0
      },
      "text/plain": [
       "Epoch 3/10:   0%|          | 0/938 [00:00<?, ?it/s]"
      ]
     },
     "metadata": {},
     "output_type": "display_data"
    },
    {
     "data": {
      "application/vnd.jupyter.widget-view+json": {
       "model_id": "",
       "version_major": 2,
       "version_minor": 0
      },
      "text/plain": [
       "Epoch 4/10:   0%|          | 0/938 [00:00<?, ?it/s]"
      ]
     },
     "metadata": {},
     "output_type": "display_data"
    },
    {
     "data": {
      "application/vnd.jupyter.widget-view+json": {
       "model_id": "",
       "version_major": 2,
       "version_minor": 0
      },
      "text/plain": [
       "Epoch 5/10:   0%|          | 0/938 [00:00<?, ?it/s]"
      ]
     },
     "metadata": {},
     "output_type": "display_data"
    },
    {
     "data": {
      "application/vnd.jupyter.widget-view+json": {
       "model_id": "",
       "version_major": 2,
       "version_minor": 0
      },
      "text/plain": [
       "Epoch 6/10:   0%|          | 0/938 [00:00<?, ?it/s]"
      ]
     },
     "metadata": {},
     "output_type": "display_data"
    },
    {
     "data": {
      "application/vnd.jupyter.widget-view+json": {
       "model_id": "",
       "version_major": 2,
       "version_minor": 0
      },
      "text/plain": [
       "Epoch 7/10:   0%|          | 0/938 [00:00<?, ?it/s]"
      ]
     },
     "metadata": {},
     "output_type": "display_data"
    },
    {
     "data": {
      "application/vnd.jupyter.widget-view+json": {
       "model_id": "",
       "version_major": 2,
       "version_minor": 0
      },
      "text/plain": [
       "Epoch 8/10:   0%|          | 0/938 [00:00<?, ?it/s]"
      ]
     },
     "metadata": {},
     "output_type": "display_data"
    },
    {
     "data": {
      "application/vnd.jupyter.widget-view+json": {
       "model_id": "",
       "version_major": 2,
       "version_minor": 0
      },
      "text/plain": [
       "Epoch 9/10:   0%|          | 0/938 [00:00<?, ?it/s]"
      ]
     },
     "metadata": {},
     "output_type": "display_data"
    },
    {
     "data": {
      "application/vnd.jupyter.widget-view+json": {
       "model_id": "",
       "version_major": 2,
       "version_minor": 0
      },
      "text/plain": [
       "Epoch 10/10:   0%|          | 0/938 [00:00<?, ?it/s]"
      ]
     },
     "metadata": {},
     "output_type": "display_data"
    },
    {
     "data": {
      "application/vnd.jupyter.widget-view+json": {
       "model_id": "",
       "version_major": 2,
       "version_minor": 0
      },
      "text/plain": [
       "Epoch 1/10:   0%|          | 0/938 [00:00<?, ?it/s]"
      ]
     },
     "metadata": {},
     "output_type": "display_data"
    },
    {
     "data": {
      "application/vnd.jupyter.widget-view+json": {
       "model_id": "",
       "version_major": 2,
       "version_minor": 0
      },
      "text/plain": [
       "Epoch 2/10:   0%|          | 0/938 [00:00<?, ?it/s]"
      ]
     },
     "metadata": {},
     "output_type": "display_data"
    },
    {
     "data": {
      "application/vnd.jupyter.widget-view+json": {
       "model_id": "",
       "version_major": 2,
       "version_minor": 0
      },
      "text/plain": [
       "Epoch 3/10:   0%|          | 0/938 [00:00<?, ?it/s]"
      ]
     },
     "metadata": {},
     "output_type": "display_data"
    },
    {
     "data": {
      "application/vnd.jupyter.widget-view+json": {
       "model_id": "",
       "version_major": 2,
       "version_minor": 0
      },
      "text/plain": [
       "Epoch 4/10:   0%|          | 0/938 [00:00<?, ?it/s]"
      ]
     },
     "metadata": {},
     "output_type": "display_data"
    },
    {
     "data": {
      "application/vnd.jupyter.widget-view+json": {
       "model_id": "",
       "version_major": 2,
       "version_minor": 0
      },
      "text/plain": [
       "Epoch 5/10:   0%|          | 0/938 [00:00<?, ?it/s]"
      ]
     },
     "metadata": {},
     "output_type": "display_data"
    },
    {
     "data": {
      "application/vnd.jupyter.widget-view+json": {
       "model_id": "",
       "version_major": 2,
       "version_minor": 0
      },
      "text/plain": [
       "Epoch 6/10:   0%|          | 0/938 [00:00<?, ?it/s]"
      ]
     },
     "metadata": {},
     "output_type": "display_data"
    },
    {
     "data": {
      "application/vnd.jupyter.widget-view+json": {
       "model_id": "",
       "version_major": 2,
       "version_minor": 0
      },
      "text/plain": [
       "Epoch 7/10:   0%|          | 0/938 [00:00<?, ?it/s]"
      ]
     },
     "metadata": {},
     "output_type": "display_data"
    },
    {
     "data": {
      "application/vnd.jupyter.widget-view+json": {
       "model_id": "",
       "version_major": 2,
       "version_minor": 0
      },
      "text/plain": [
       "Epoch 8/10:   0%|          | 0/938 [00:00<?, ?it/s]"
      ]
     },
     "metadata": {},
     "output_type": "display_data"
    },
    {
     "data": {
      "application/vnd.jupyter.widget-view+json": {
       "model_id": "",
       "version_major": 2,
       "version_minor": 0
      },
      "text/plain": [
       "Epoch 9/10:   0%|          | 0/938 [00:00<?, ?it/s]"
      ]
     },
     "metadata": {},
     "output_type": "display_data"
    },
    {
     "data": {
      "application/vnd.jupyter.widget-view+json": {
       "model_id": "",
       "version_major": 2,
       "version_minor": 0
      },
      "text/plain": [
       "Epoch 10/10:   0%|          | 0/938 [00:00<?, ?it/s]"
      ]
     },
     "metadata": {},
     "output_type": "display_data"
    },
    {
     "data": {
      "application/vnd.jupyter.widget-view+json": {
       "model_id": "",
       "version_major": 2,
       "version_minor": 0
      },
      "text/plain": [
       "Epoch 1/10:   0%|          | 0/938 [00:00<?, ?it/s]"
      ]
     },
     "metadata": {},
     "output_type": "display_data"
    },
    {
     "data": {
      "application/vnd.jupyter.widget-view+json": {
       "model_id": "",
       "version_major": 2,
       "version_minor": 0
      },
      "text/plain": [
       "Epoch 2/10:   0%|          | 0/938 [00:00<?, ?it/s]"
      ]
     },
     "metadata": {},
     "output_type": "display_data"
    },
    {
     "data": {
      "application/vnd.jupyter.widget-view+json": {
       "model_id": "",
       "version_major": 2,
       "version_minor": 0
      },
      "text/plain": [
       "Epoch 3/10:   0%|          | 0/938 [00:00<?, ?it/s]"
      ]
     },
     "metadata": {},
     "output_type": "display_data"
    },
    {
     "data": {
      "application/vnd.jupyter.widget-view+json": {
       "model_id": "",
       "version_major": 2,
       "version_minor": 0
      },
      "text/plain": [
       "Epoch 4/10:   0%|          | 0/938 [00:00<?, ?it/s]"
      ]
     },
     "metadata": {},
     "output_type": "display_data"
    },
    {
     "data": {
      "application/vnd.jupyter.widget-view+json": {
       "model_id": "",
       "version_major": 2,
       "version_minor": 0
      },
      "text/plain": [
       "Epoch 5/10:   0%|          | 0/938 [00:00<?, ?it/s]"
      ]
     },
     "metadata": {},
     "output_type": "display_data"
    },
    {
     "data": {
      "application/vnd.jupyter.widget-view+json": {
       "model_id": "",
       "version_major": 2,
       "version_minor": 0
      },
      "text/plain": [
       "Epoch 6/10:   0%|          | 0/938 [00:00<?, ?it/s]"
      ]
     },
     "metadata": {},
     "output_type": "display_data"
    },
    {
     "data": {
      "application/vnd.jupyter.widget-view+json": {
       "model_id": "",
       "version_major": 2,
       "version_minor": 0
      },
      "text/plain": [
       "Epoch 7/10:   0%|          | 0/938 [00:00<?, ?it/s]"
      ]
     },
     "metadata": {},
     "output_type": "display_data"
    },
    {
     "data": {
      "application/vnd.jupyter.widget-view+json": {
       "model_id": "",
       "version_major": 2,
       "version_minor": 0
      },
      "text/plain": [
       "Epoch 8/10:   0%|          | 0/938 [00:00<?, ?it/s]"
      ]
     },
     "metadata": {},
     "output_type": "display_data"
    },
    {
     "data": {
      "application/vnd.jupyter.widget-view+json": {
       "model_id": "",
       "version_major": 2,
       "version_minor": 0
      },
      "text/plain": [
       "Epoch 9/10:   0%|          | 0/938 [00:00<?, ?it/s]"
      ]
     },
     "metadata": {},
     "output_type": "display_data"
    },
    {
     "data": {
      "application/vnd.jupyter.widget-view+json": {
       "model_id": "",
       "version_major": 2,
       "version_minor": 0
      },
      "text/plain": [
       "Epoch 10/10:   0%|          | 0/938 [00:00<?, ?it/s]"
      ]
     },
     "metadata": {},
     "output_type": "display_data"
    },
    {
     "data": {
      "application/vnd.jupyter.widget-view+json": {
       "model_id": "",
       "version_major": 2,
       "version_minor": 0
      },
      "text/plain": [
       "Epoch 1/10:   0%|          | 0/938 [00:00<?, ?it/s]"
      ]
     },
     "metadata": {},
     "output_type": "display_data"
    },
    {
     "data": {
      "application/vnd.jupyter.widget-view+json": {
       "model_id": "",
       "version_major": 2,
       "version_minor": 0
      },
      "text/plain": [
       "Epoch 2/10:   0%|          | 0/938 [00:00<?, ?it/s]"
      ]
     },
     "metadata": {},
     "output_type": "display_data"
    },
    {
     "data": {
      "application/vnd.jupyter.widget-view+json": {
       "model_id": "",
       "version_major": 2,
       "version_minor": 0
      },
      "text/plain": [
       "Epoch 3/10:   0%|          | 0/938 [00:00<?, ?it/s]"
      ]
     },
     "metadata": {},
     "output_type": "display_data"
    },
    {
     "data": {
      "application/vnd.jupyter.widget-view+json": {
       "model_id": "",
       "version_major": 2,
       "version_minor": 0
      },
      "text/plain": [
       "Epoch 4/10:   0%|          | 0/938 [00:00<?, ?it/s]"
      ]
     },
     "metadata": {},
     "output_type": "display_data"
    },
    {
     "data": {
      "application/vnd.jupyter.widget-view+json": {
       "model_id": "",
       "version_major": 2,
       "version_minor": 0
      },
      "text/plain": [
       "Epoch 5/10:   0%|          | 0/938 [00:00<?, ?it/s]"
      ]
     },
     "metadata": {},
     "output_type": "display_data"
    },
    {
     "data": {
      "application/vnd.jupyter.widget-view+json": {
       "model_id": "",
       "version_major": 2,
       "version_minor": 0
      },
      "text/plain": [
       "Epoch 6/10:   0%|          | 0/938 [00:00<?, ?it/s]"
      ]
     },
     "metadata": {},
     "output_type": "display_data"
    },
    {
     "data": {
      "application/vnd.jupyter.widget-view+json": {
       "model_id": "",
       "version_major": 2,
       "version_minor": 0
      },
      "text/plain": [
       "Epoch 7/10:   0%|          | 0/938 [00:00<?, ?it/s]"
      ]
     },
     "metadata": {},
     "output_type": "display_data"
    },
    {
     "data": {
      "application/vnd.jupyter.widget-view+json": {
       "model_id": "",
       "version_major": 2,
       "version_minor": 0
      },
      "text/plain": [
       "Epoch 8/10:   0%|          | 0/938 [00:00<?, ?it/s]"
      ]
     },
     "metadata": {},
     "output_type": "display_data"
    },
    {
     "data": {
      "application/vnd.jupyter.widget-view+json": {
       "model_id": "",
       "version_major": 2,
       "version_minor": 0
      },
      "text/plain": [
       "Epoch 9/10:   0%|          | 0/938 [00:00<?, ?it/s]"
      ]
     },
     "metadata": {},
     "output_type": "display_data"
    },
    {
     "data": {
      "application/vnd.jupyter.widget-view+json": {
       "model_id": "",
       "version_major": 2,
       "version_minor": 0
      },
      "text/plain": [
       "Epoch 10/10:   0%|          | 0/938 [00:00<?, ?it/s]"
      ]
     },
     "metadata": {},
     "output_type": "display_data"
    },
    {
     "data": {
      "application/vnd.jupyter.widget-view+json": {
       "model_id": "",
       "version_major": 2,
       "version_minor": 0
      },
      "text/plain": [
       "Epoch 1/10:   0%|          | 0/938 [00:00<?, ?it/s]"
      ]
     },
     "metadata": {},
     "output_type": "display_data"
    },
    {
     "data": {
      "application/vnd.jupyter.widget-view+json": {
       "model_id": "",
       "version_major": 2,
       "version_minor": 0
      },
      "text/plain": [
       "Epoch 2/10:   0%|          | 0/938 [00:00<?, ?it/s]"
      ]
     },
     "metadata": {},
     "output_type": "display_data"
    },
    {
     "data": {
      "application/vnd.jupyter.widget-view+json": {
       "model_id": "",
       "version_major": 2,
       "version_minor": 0
      },
      "text/plain": [
       "Epoch 3/10:   0%|          | 0/938 [00:00<?, ?it/s]"
      ]
     },
     "metadata": {},
     "output_type": "display_data"
    },
    {
     "data": {
      "application/vnd.jupyter.widget-view+json": {
       "model_id": "",
       "version_major": 2,
       "version_minor": 0
      },
      "text/plain": [
       "Epoch 4/10:   0%|          | 0/938 [00:00<?, ?it/s]"
      ]
     },
     "metadata": {},
     "output_type": "display_data"
    },
    {
     "data": {
      "application/vnd.jupyter.widget-view+json": {
       "model_id": "",
       "version_major": 2,
       "version_minor": 0
      },
      "text/plain": [
       "Epoch 5/10:   0%|          | 0/938 [00:00<?, ?it/s]"
      ]
     },
     "metadata": {},
     "output_type": "display_data"
    },
    {
     "data": {
      "application/vnd.jupyter.widget-view+json": {
       "model_id": "",
       "version_major": 2,
       "version_minor": 0
      },
      "text/plain": [
       "Epoch 6/10:   0%|          | 0/938 [00:00<?, ?it/s]"
      ]
     },
     "metadata": {},
     "output_type": "display_data"
    },
    {
     "data": {
      "application/vnd.jupyter.widget-view+json": {
       "model_id": "",
       "version_major": 2,
       "version_minor": 0
      },
      "text/plain": [
       "Epoch 7/10:   0%|          | 0/938 [00:00<?, ?it/s]"
      ]
     },
     "metadata": {},
     "output_type": "display_data"
    },
    {
     "data": {
      "application/vnd.jupyter.widget-view+json": {
       "model_id": "",
       "version_major": 2,
       "version_minor": 0
      },
      "text/plain": [
       "Epoch 8/10:   0%|          | 0/938 [00:00<?, ?it/s]"
      ]
     },
     "metadata": {},
     "output_type": "display_data"
    },
    {
     "data": {
      "application/vnd.jupyter.widget-view+json": {
       "model_id": "",
       "version_major": 2,
       "version_minor": 0
      },
      "text/plain": [
       "Epoch 9/10:   0%|          | 0/938 [00:00<?, ?it/s]"
      ]
     },
     "metadata": {},
     "output_type": "display_data"
    },
    {
     "data": {
      "application/vnd.jupyter.widget-view+json": {
       "model_id": "",
       "version_major": 2,
       "version_minor": 0
      },
      "text/plain": [
       "Epoch 10/10:   0%|          | 0/938 [00:00<?, ?it/s]"
      ]
     },
     "metadata": {},
     "output_type": "display_data"
    },
    {
     "data": {
      "application/vnd.jupyter.widget-view+json": {
       "model_id": "",
       "version_major": 2,
       "version_minor": 0
      },
      "text/plain": [
       "Epoch 1/10:   0%|          | 0/938 [00:00<?, ?it/s]"
      ]
     },
     "metadata": {},
     "output_type": "display_data"
    },
    {
     "data": {
      "application/vnd.jupyter.widget-view+json": {
       "model_id": "",
       "version_major": 2,
       "version_minor": 0
      },
      "text/plain": [
       "Epoch 2/10:   0%|          | 0/938 [00:00<?, ?it/s]"
      ]
     },
     "metadata": {},
     "output_type": "display_data"
    },
    {
     "data": {
      "application/vnd.jupyter.widget-view+json": {
       "model_id": "",
       "version_major": 2,
       "version_minor": 0
      },
      "text/plain": [
       "Epoch 3/10:   0%|          | 0/938 [00:00<?, ?it/s]"
      ]
     },
     "metadata": {},
     "output_type": "display_data"
    },
    {
     "data": {
      "application/vnd.jupyter.widget-view+json": {
       "model_id": "",
       "version_major": 2,
       "version_minor": 0
      },
      "text/plain": [
       "Epoch 4/10:   0%|          | 0/938 [00:00<?, ?it/s]"
      ]
     },
     "metadata": {},
     "output_type": "display_data"
    },
    {
     "data": {
      "application/vnd.jupyter.widget-view+json": {
       "model_id": "",
       "version_major": 2,
       "version_minor": 0
      },
      "text/plain": [
       "Epoch 5/10:   0%|          | 0/938 [00:00<?, ?it/s]"
      ]
     },
     "metadata": {},
     "output_type": "display_data"
    },
    {
     "data": {
      "application/vnd.jupyter.widget-view+json": {
       "model_id": "",
       "version_major": 2,
       "version_minor": 0
      },
      "text/plain": [
       "Epoch 6/10:   0%|          | 0/938 [00:00<?, ?it/s]"
      ]
     },
     "metadata": {},
     "output_type": "display_data"
    },
    {
     "data": {
      "application/vnd.jupyter.widget-view+json": {
       "model_id": "",
       "version_major": 2,
       "version_minor": 0
      },
      "text/plain": [
       "Epoch 7/10:   0%|          | 0/938 [00:00<?, ?it/s]"
      ]
     },
     "metadata": {},
     "output_type": "display_data"
    },
    {
     "data": {
      "application/vnd.jupyter.widget-view+json": {
       "model_id": "",
       "version_major": 2,
       "version_minor": 0
      },
      "text/plain": [
       "Epoch 8/10:   0%|          | 0/938 [00:00<?, ?it/s]"
      ]
     },
     "metadata": {},
     "output_type": "display_data"
    },
    {
     "data": {
      "application/vnd.jupyter.widget-view+json": {
       "model_id": "",
       "version_major": 2,
       "version_minor": 0
      },
      "text/plain": [
       "Epoch 9/10:   0%|          | 0/938 [00:00<?, ?it/s]"
      ]
     },
     "metadata": {},
     "output_type": "display_data"
    },
    {
     "data": {
      "application/vnd.jupyter.widget-view+json": {
       "model_id": "",
       "version_major": 2,
       "version_minor": 0
      },
      "text/plain": [
       "Epoch 10/10:   0%|          | 0/938 [00:00<?, ?it/s]"
      ]
     },
     "metadata": {},
     "output_type": "display_data"
    },
    {
     "data": {
      "application/vnd.jupyter.widget-view+json": {
       "model_id": "",
       "version_major": 2,
       "version_minor": 0
      },
      "text/plain": [
       "Epoch 1/10:   0%|          | 0/938 [00:00<?, ?it/s]"
      ]
     },
     "metadata": {},
     "output_type": "display_data"
    },
    {
     "data": {
      "application/vnd.jupyter.widget-view+json": {
       "model_id": "",
       "version_major": 2,
       "version_minor": 0
      },
      "text/plain": [
       "Epoch 2/10:   0%|          | 0/938 [00:00<?, ?it/s]"
      ]
     },
     "metadata": {},
     "output_type": "display_data"
    },
    {
     "data": {
      "application/vnd.jupyter.widget-view+json": {
       "model_id": "",
       "version_major": 2,
       "version_minor": 0
      },
      "text/plain": [
       "Epoch 3/10:   0%|          | 0/938 [00:00<?, ?it/s]"
      ]
     },
     "metadata": {},
     "output_type": "display_data"
    },
    {
     "data": {
      "application/vnd.jupyter.widget-view+json": {
       "model_id": "",
       "version_major": 2,
       "version_minor": 0
      },
      "text/plain": [
       "Epoch 4/10:   0%|          | 0/938 [00:00<?, ?it/s]"
      ]
     },
     "metadata": {},
     "output_type": "display_data"
    },
    {
     "data": {
      "application/vnd.jupyter.widget-view+json": {
       "model_id": "",
       "version_major": 2,
       "version_minor": 0
      },
      "text/plain": [
       "Epoch 5/10:   0%|          | 0/938 [00:00<?, ?it/s]"
      ]
     },
     "metadata": {},
     "output_type": "display_data"
    },
    {
     "data": {
      "application/vnd.jupyter.widget-view+json": {
       "model_id": "",
       "version_major": 2,
       "version_minor": 0
      },
      "text/plain": [
       "Epoch 6/10:   0%|          | 0/938 [00:00<?, ?it/s]"
      ]
     },
     "metadata": {},
     "output_type": "display_data"
    },
    {
     "data": {
      "application/vnd.jupyter.widget-view+json": {
       "model_id": "",
       "version_major": 2,
       "version_minor": 0
      },
      "text/plain": [
       "Epoch 7/10:   0%|          | 0/938 [00:00<?, ?it/s]"
      ]
     },
     "metadata": {},
     "output_type": "display_data"
    },
    {
     "data": {
      "application/vnd.jupyter.widget-view+json": {
       "model_id": "",
       "version_major": 2,
       "version_minor": 0
      },
      "text/plain": [
       "Epoch 8/10:   0%|          | 0/938 [00:00<?, ?it/s]"
      ]
     },
     "metadata": {},
     "output_type": "display_data"
    },
    {
     "data": {
      "application/vnd.jupyter.widget-view+json": {
       "model_id": "",
       "version_major": 2,
       "version_minor": 0
      },
      "text/plain": [
       "Epoch 9/10:   0%|          | 0/938 [00:00<?, ?it/s]"
      ]
     },
     "metadata": {},
     "output_type": "display_data"
    },
    {
     "data": {
      "application/vnd.jupyter.widget-view+json": {
       "model_id": "",
       "version_major": 2,
       "version_minor": 0
      },
      "text/plain": [
       "Epoch 10/10:   0%|          | 0/938 [00:00<?, ?it/s]"
      ]
     },
     "metadata": {},
     "output_type": "display_data"
    },
    {
     "data": {
      "image/png": "[encoded data removed]",
      "text/plain": [
       "<Figure size 1000x500 with 1 Axes>"
      ]
     },
     "metadata": {},
     "output_type": "display_data"
    }
   ],
   "source": [
    "from tqdm.notebook import tqdm\n",
    "import matplotlib.pyplot as plt\n",
    "\n",
    "def train_test(model, optimizer, num_epochs=10):\n",
    "    model.train()\n",
    "    losses = []\n",
    "    for epoch in range(num_epochs):\n",
    "        epoch_losses = []\n",
    "        for data, target in tqdm(train_loader, desc=f'Epoch {epoch+1}/{num_epochs}', leave=False):\n",
    "            data, target = data.to(device), target.to(device)\n",
    "            optimizer.zero_grad()\n",
    "            output = model(data)\n",
    "            loss = F.nll_loss(output, target)\n",
    "            loss.backward()\n",
    "            optimizer.step()\n",
    "            epoch_losses.append(loss.item())\n",
    "        #losses.append(np.mean(epoch_losses))\n",
    "        losses.append(test(model, device, test_loader))\n",
    "    return losses\n",
    "\n",
    "# Run training and collect losses\n",
    "num_runs = 5\n",
    "all_losses1 = []\n",
    "all_losses2 = []\n",
    "\n",
    "for _ in tqdm(range(num_runs), desc=\"Running training cycles\"):\n",
    "    our_model = RI_CNN().to(device)\n",
    "    basic_model = BASE_CNN().to(device)\n",
    "    our_optimizer = optim.Adam(our_model.parameters(), lr=0.01)\n",
    "    basic_optimizer = optim.Adam(basic_model.parameters(), lr=0.01)\n",
    "    all_losses1.append(train_test(our_model, our_optimizer))\n",
    "    all_losses2.append(train_test(basic_model, basic_optimizer))\n",
    "\n",
    "# Calculate average losses\n",
    "avg_losses1 = np.mean(all_losses1, axis=0)\n",
    "avg_losses2 = np.mean(all_losses2, axis=0)\n",
    "\n",
    "# Plotting\n",
    "plt.figure(figsize=(10, 5))\n",
    "plt.plot(avg_losses1, label='RI Model Average Loss')\n",
    "plt.plot(avg_losses2, label='Basic Model Average Loss')\n",
    "plt.title('Average Loss Over Multiple Runs')\n",
    "plt.xlabel('Epoch')\n",
    "plt.ylabel('Loss')\n",
    "plt.legend()\n",
    "plt.show()"
   ]
  },
  {
   "cell_type": "code",
   "execution_count": null,
   "metadata": {},
   "outputs": [],
   "source": [
    "# Assuming `model` is your CNN model and it has at least one convolutional layer named 'conv1'\n",
    "filters = our_model.vector_transform.filters.data.cpu().numpy()\n",
    "\n",
    "import matplotlib.pyplot as plt\n",
    "\n",
    "# Assuming filters are of shape (out_channels, in_channels, kernel_height, kernel_width)\n",
    "# and the input images are grayscale (in_channels = 1)\n",
    "n_filters = filters.shape[0]\n",
    "plt.figure(figsize=(20, 17))\n",
    "\n",
    "for i in range(n_filters):\n",
    "    ax = plt.subplot((n_filters // 8) + 1, 8, i + 1)\n",
    "    ax.set_xticks([])\n",
    "    ax.set_yticks([])\n",
    "    plt.imshow(filters[i, 0], cmap='gray')  # Index 0 for the first channel\n",
    "    ax.set_title(f'Filter {i}')\n",
    "plt.show()\n"
   ]
  },
  {
   "cell_type": "code",
   "execution_count": 8,
   "metadata": {
    "executionInfo": {
     "elapsed": 3,
     "status": "aborted",
     "timestamp": 1713951456742,
     "user": {
      "displayName": "Daniel Gove",
      "userId": "07224280378983291387"
     },
     "user_tz": 240
    },
    "id": "QYw2RZx-infy"
   },
   "outputs": [
    {
     "name": "stdout",
     "output_type": "stream",
     "text": [
      "Accuracy on the test set with random rotations: 46.46%\n"
     ]
    }
   ],
   "source": [
    "from torchvision import datasets, transforms\n",
    "from torch.utils.data import DataLoader\n",
    "import random\n",
    "\n",
    "# Define a custom transformation that randomly rotates images by 0, 90, 180, or 270 degrees\n",
    "class RandomRotationTransform:\n",
    "    def __init__(self, angles):\n",
    "        self.angles = angles\n",
    "\n",
    "    def __call__(self, x):\n",
    "        angle = random.choice(self.angles)\n",
    "        return transforms.functional.rotate(x, angle)\n",
    "\n",
    "# Apply the transformation to the MNIST test set\n",
    "test_transform = transforms.Compose([\n",
    "    RandomRotationTransform(angles=[0, 90, 180, 270]),\n",
    "    transforms.ToTensor(),\n",
    "    transforms.Normalize((0.1307,), (0.3081,))\n",
    "])\n",
    "\n",
    "# Download and load the test dataset with the custom transform\n",
    "test_dataset = datasets.MNIST(root='./data', train=False, transform=test_transform, download=True)\n",
    "test_loader = DataLoader(test_dataset, batch_size=64, shuffle=False)\n",
    "\n",
    "def evaluate_model(model, device, test_loader):\n",
    "    model.eval()\n",
    "    correct = 0\n",
    "    total = 0\n",
    "    with torch.no_grad():\n",
    "        for images, labels in test_loader:\n",
    "            images, labels = images.to(device), labels.to(device)\n",
    "            outputs = model(images)\n",
    "            _, predicted = torch.max(outputs.data, 1)\n",
    "            total += labels.size(0)\n",
    "            correct += (predicted == labels).sum().item()\n",
    "\n",
    "    accuracy = 100 * correct / total\n",
    "    print(f'Accuracy on the test set with random rotations: {accuracy:.2f}%')\n",
    "\n",
    "# Assume the model and device are already set up\n",
    "evaluate_model(model, device, test_loader)\n"
   ]
  },
  {
   "cell_type": "code",
   "execution_count": 48,
   "metadata": {
    "executionInfo": {
     "elapsed": 2,
     "status": "aborted",
     "timestamp": 1713951456742,
     "user": {
      "displayName": "Daniel Gove",
      "userId": "07224280378983291387"
     },
     "user_tz": 240
    },
    "id": "F9lI6LRDob3q"
   },
   "outputs": [],
   "source": [
    "class RotatedFilterConv2d(nn.Module):\n",
    "  def __init__(self, in_channels, out_channels, kernel_size, stride=1, padding=0, dilation=1, bias=True):\n",
    "    super(RotatedFilterConv2d, self).__init__()\n",
    "    self.in_channels = in_channels\n",
    "    self.out_channels = out_channels\n",
    "    self.kernel_size = kernel_size\n",
    "    self.stride = stride\n",
    "    self.padding = padding\n",
    "    self.dilation = dilation\n",
    "\n",
    "    # Initialize weights for the base filters\n",
    "    self.filters = nn.Parameter(torch.randn(out_channels, in_channels, kernel_size, kernel_size))\n",
    "    self.rotated_filters = self.rotate_filters(self.filters)\n",
    "    self.bias = nn.Parameter(torch.randn(out_channels)) if bias else None\n",
    "\n",
    "  def forward(self, x):\n",
    "    return F.conv2d(x, self.rotated_filters, self.bias, self.stride, self.padding, self.dilation)\n",
    "\n",
    "  def rotate_filters(self, filters):\n",
    "    rotated_filters = torch.stack([\n",
    "      filters,\n",
    "      filters.transpose(2, 3).flip(2),\n",
    "      filters.flip(2).flip(3),\n",
    "      filters.transpose(2, 3).flip(3)\n",
    "    ], dim=0)\n",
    "    return rotated_filters"
   ]
  },
  {
   "cell_type": "code",
   "execution_count": null,
   "metadata": {
    "executionInfo": {
     "elapsed": 2,
     "status": "aborted",
     "timestamp": 1713951456742,
     "user": {
      "displayName": "Daniel Gove",
      "userId": "07224280378983291387"
     },
     "user_tz": 240
    },
    "id": "jspHBAvO2Ty1"
   },
   "outputs": [],
   "source": []
  },
  {
   "cell_type": "code",
   "execution_count": null,
   "metadata": {
    "executionInfo": {
     "elapsed": 2,
     "status": "aborted",
     "timestamp": 1713951456742,
     "user": {
      "displayName": "Daniel Gove",
      "userId": "07224280378983291387"
     },
     "user_tz": 240
    },
    "id": "l4s-ZgxdU7tx"
   },
   "outputs": [],
   "source": [
    "# Evaluation"
   ]
  },
  {
   "cell_type": "code",
   "execution_count": null,
   "metadata": {
    "executionInfo": {
     "elapsed": 2,
     "status": "aborted",
     "timestamp": 1713951456742,
     "user": {
      "displayName": "Daniel Gove",
      "userId": "07224280378983291387"
     },
     "user_tz": 240
    },
    "id": "MeunkLrEVFfK"
   },
   "outputs": [],
   "source": [
    "# Results and Conclusions"
   ]
  },
  {
   "cell_type": "code",
   "execution_count": null,
   "metadata": {
    "executionInfo": {
     "elapsed": 20630,
     "status": "aborted",
     "timestamp": 1713951456743,
     "user": {
      "displayName": "Daniel Gove",
      "userId": "07224280378983291387"
     },
     "user_tz": 240
    },
    "id": "_t_7OzUVVJpW"
   },
   "outputs": [],
   "source": []
  },
  {
   "cell_type": "code",
   "execution_count": null,
   "metadata": {},
   "outputs": [],
   "source": []
  },
  {
   "cell_type": "code",
   "execution_count": null,
   "metadata": {},
   "outputs": [],
   "source": []
  },
  {
   "cell_type": "code",
   "execution_count": null,
   "metadata": {},
   "outputs": [],
   "source": []
  }
 ],
 "metadata": {
  "accelerator": "GPU",
  "colab": {
   "authorship_tag": "ABX9TyM0+HCvj/iZLj9OQr2UM7mT",
   "gpuType": "T4",
   "provenance": []
  },
  "kernelspec": {
   "display_name": "Python 3 (ipykernel)",
   "language": "python",
   "name": "python3"
  },
  "language_info": {
   "codemirror_mode": {
    "name": "ipython",
    "version": 3
   },
   "file_extension": ".py",
   "mimetype": "text/x-python",
   "name": "python",
   "nbconvert_exporter": "python",
   "pygments_lexer": "ipython3",
   "version": "3.10.12"
  }
 },
 "nbformat": 4,
 "nbformat_minor": 4
}
